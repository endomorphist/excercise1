{
  "nbformat": 4,
  "nbformat_minor": 0,
  "metadata": {
    "colab": {
      "name": "Untitled1.ipynb",
      "version": "0.3.2",
      "provenance": [],
      "collapsed_sections": [],
      "include_colab_link": true
    },
    "kernelspec": {
      "name": "python3",
      "display_name": "Python 3"
    }
  },
  "cells": [
    {
      "cell_type": "markdown",
      "metadata": {
        "id": "view-in-github",
        "colab_type": "text"
      },
      "source": [
        "<a href=\"https://colab.research.google.com/github/endomorphist/excercise1/blob/master/Untitled1.ipynb\" target=\"_parent\"><img src=\"https://colab.research.google.com/assets/colab-badge.svg\" alt=\"Open In Colab\"/></a>"
      ]
    },
    {
      "cell_type": "code",
      "metadata": {
        "id": "hmAtLKBxSho1",
        "colab_type": "code",
        "outputId": "62c84526-d930-40b1-e759-a604523cf7a9",
        "colab": {
          "base_uri": "https://localhost:8080/",
          "height": 34
        }
      },
      "source": [
        "import tensorflow as tf\n",
        "from tensorflow import keras\n",
        "import numpy as np\n",
        "print(tf.__version__)"
      ],
      "execution_count": 0,
      "outputs": [
        {
          "output_type": "stream",
          "text": [
            "1.14.0\n"
          ],
          "name": "stdout"
        }
      ]
    },
    {
      "cell_type": "markdown",
      "metadata": {
        "id": "grHkcPuaTyh4",
        "colab_type": "text"
      },
      "source": [
        "**Boston Housig Prices dataset**"
      ]
    },
    {
      "cell_type": "code",
      "metadata": {
        "id": "FE_4Tq-RUboJ",
        "colab_type": "code",
        "outputId": "92ba8d16-10ab-4a76-92be-03923cbc684c",
        "colab": {
          "base_uri": "https://localhost:8080/",
          "height": 34
        }
      },
      "source": [
        "boston_housing = keras.datasets.boston_housing\n",
        "(train_data, train_labels), (test_data, test_labels) = boston_housing.load_data()\n",
        "# shuffle the training set\n",
        "order = np.argsort(np.random.random(train_labels.shape))\n",
        "train_data = train_data[order]\n",
        "train_labels = train_labels[order]\n",
        "print(train_labels[0])"
      ],
      "execution_count": 0,
      "outputs": [
        {
          "output_type": "stream",
          "text": [
            "32.0\n"
          ],
          "name": "stdout"
        }
      ]
    },
    {
      "cell_type": "code",
      "metadata": {
        "id": "p2-TADpyWpcy",
        "colab_type": "code",
        "outputId": "f8a3f489-bb93-409a-96e1-7c85602f76d0",
        "colab": {
          "base_uri": "https://localhost:8080/",
          "height": 51
        }
      },
      "source": [
        "print(\"Training set: {}\".format(train_data.shape))\n",
        "print(\"Testing set: {}\".format(test_data.shape))\n"
      ],
      "execution_count": 0,
      "outputs": [
        {
          "output_type": "stream",
          "text": [
            "Training set: (404, 13)\n",
            "Testing set: (102, 13)\n"
          ],
          "name": "stdout"
        }
      ]
    },
    {
      "cell_type": "code",
      "metadata": {
        "id": "A8K7jdoLXMUa",
        "colab_type": "code",
        "outputId": "0d26bca6-5f8f-45d9-fcfc-4c95cd58efc9",
        "colab": {
          "base_uri": "https://localhost:8080/",
          "height": 68
        }
      },
      "source": [
        "print(train_data[0])"
      ],
      "execution_count": 0,
      "outputs": [
        {
          "output_type": "stream",
          "text": [
            "[7.8750e-02 4.5000e+01 3.4400e+00 0.0000e+00 4.3700e-01 6.7820e+00\n",
            " 4.1100e+01 3.7886e+00 5.0000e+00 3.9800e+02 1.5200e+01 3.9387e+02\n",
            " 6.6800e+00]\n"
          ],
          "name": "stdout"
        }
      ]
    },
    {
      "cell_type": "code",
      "metadata": {
        "id": "rGwVYIs1XXLL",
        "colab_type": "code",
        "outputId": "831d82df-65ff-4007-b4da-d481845bf9b0",
        "colab": {
          "base_uri": "https://localhost:8080/",
          "height": 204
        }
      },
      "source": [
        "import pandas as pd\n",
        "column_names = ['CRIM', 'ZN', 'INDUS', 'CHAS', 'NOX', 'RM', 'AGE', 'DIS', 'RAD', 'TAX', 'PTRATIO', 'B', 'LSTAT']\n",
        "df = pd.DataFrame(train_data, columns=column_names)\n",
        "df.head()"
      ],
      "execution_count": 0,
      "outputs": [
        {
          "output_type": "execute_result",
          "data": {
            "text/html": [
              "<div>\n",
              "<style scoped>\n",
              "    .dataframe tbody tr th:only-of-type {\n",
              "        vertical-align: middle;\n",
              "    }\n",
              "\n",
              "    .dataframe tbody tr th {\n",
              "        vertical-align: top;\n",
              "    }\n",
              "\n",
              "    .dataframe thead th {\n",
              "        text-align: right;\n",
              "    }\n",
              "</style>\n",
              "<table border=\"1\" class=\"dataframe\">\n",
              "  <thead>\n",
              "    <tr style=\"text-align: right;\">\n",
              "      <th></th>\n",
              "      <th>CRIM</th>\n",
              "      <th>ZN</th>\n",
              "      <th>INDUS</th>\n",
              "      <th>CHAS</th>\n",
              "      <th>NOX</th>\n",
              "      <th>RM</th>\n",
              "      <th>AGE</th>\n",
              "      <th>DIS</th>\n",
              "      <th>RAD</th>\n",
              "      <th>TAX</th>\n",
              "      <th>PTRATIO</th>\n",
              "      <th>B</th>\n",
              "      <th>LSTAT</th>\n",
              "    </tr>\n",
              "  </thead>\n",
              "  <tbody>\n",
              "    <tr>\n",
              "      <th>0</th>\n",
              "      <td>0.07875</td>\n",
              "      <td>45.0</td>\n",
              "      <td>3.44</td>\n",
              "      <td>0.0</td>\n",
              "      <td>0.437</td>\n",
              "      <td>6.782</td>\n",
              "      <td>41.1</td>\n",
              "      <td>3.7886</td>\n",
              "      <td>5.0</td>\n",
              "      <td>398.0</td>\n",
              "      <td>15.2</td>\n",
              "      <td>393.87</td>\n",
              "      <td>6.68</td>\n",
              "    </tr>\n",
              "    <tr>\n",
              "      <th>1</th>\n",
              "      <td>4.55587</td>\n",
              "      <td>0.0</td>\n",
              "      <td>18.10</td>\n",
              "      <td>0.0</td>\n",
              "      <td>0.718</td>\n",
              "      <td>3.561</td>\n",
              "      <td>87.9</td>\n",
              "      <td>1.6132</td>\n",
              "      <td>24.0</td>\n",
              "      <td>666.0</td>\n",
              "      <td>20.2</td>\n",
              "      <td>354.70</td>\n",
              "      <td>7.12</td>\n",
              "    </tr>\n",
              "    <tr>\n",
              "      <th>2</th>\n",
              "      <td>0.09604</td>\n",
              "      <td>40.0</td>\n",
              "      <td>6.41</td>\n",
              "      <td>0.0</td>\n",
              "      <td>0.447</td>\n",
              "      <td>6.854</td>\n",
              "      <td>42.8</td>\n",
              "      <td>4.2673</td>\n",
              "      <td>4.0</td>\n",
              "      <td>254.0</td>\n",
              "      <td>17.6</td>\n",
              "      <td>396.90</td>\n",
              "      <td>2.98</td>\n",
              "    </tr>\n",
              "    <tr>\n",
              "      <th>3</th>\n",
              "      <td>0.01870</td>\n",
              "      <td>85.0</td>\n",
              "      <td>4.15</td>\n",
              "      <td>0.0</td>\n",
              "      <td>0.429</td>\n",
              "      <td>6.516</td>\n",
              "      <td>27.7</td>\n",
              "      <td>8.5353</td>\n",
              "      <td>4.0</td>\n",
              "      <td>351.0</td>\n",
              "      <td>17.9</td>\n",
              "      <td>392.43</td>\n",
              "      <td>6.36</td>\n",
              "    </tr>\n",
              "    <tr>\n",
              "      <th>4</th>\n",
              "      <td>0.52693</td>\n",
              "      <td>0.0</td>\n",
              "      <td>6.20</td>\n",
              "      <td>0.0</td>\n",
              "      <td>0.504</td>\n",
              "      <td>8.725</td>\n",
              "      <td>83.0</td>\n",
              "      <td>2.8944</td>\n",
              "      <td>8.0</td>\n",
              "      <td>307.0</td>\n",
              "      <td>17.4</td>\n",
              "      <td>382.00</td>\n",
              "      <td>4.63</td>\n",
              "    </tr>\n",
              "  </tbody>\n",
              "</table>\n",
              "</div>"
            ],
            "text/plain": [
              "      CRIM    ZN  INDUS  CHAS    NOX  ...   RAD    TAX  PTRATIO       B  LSTAT\n",
              "0  0.07875  45.0   3.44   0.0  0.437  ...   5.0  398.0     15.2  393.87   6.68\n",
              "1  4.55587   0.0  18.10   0.0  0.718  ...  24.0  666.0     20.2  354.70   7.12\n",
              "2  0.09604  40.0   6.41   0.0  0.447  ...   4.0  254.0     17.6  396.90   2.98\n",
              "3  0.01870  85.0   4.15   0.0  0.429  ...   4.0  351.0     17.9  392.43   6.36\n",
              "4  0.52693   0.0   6.20   0.0  0.504  ...   8.0  307.0     17.4  382.00   4.63\n",
              "\n",
              "[5 rows x 13 columns]"
            ]
          },
          "metadata": {
            "tags": []
          },
          "execution_count": 6
        }
      ]
    },
    {
      "cell_type": "code",
      "metadata": {
        "id": "R13abknjZ7XQ",
        "colab_type": "code",
        "outputId": "7be5fd2e-f402-4264-8e97-ab269038a877",
        "colab": {
          "base_uri": "https://localhost:8080/",
          "height": 34
        }
      },
      "source": [
        "print(train_labels[0:10])"
      ],
      "execution_count": 0,
      "outputs": [
        {
          "output_type": "stream",
          "text": [
            "[32.  27.5 32.  23.1 50.  20.6 22.6 36.2 21.8 19.5]\n"
          ],
          "name": "stdout"
        }
      ]
    },
    {
      "cell_type": "markdown",
      "metadata": {
        "id": "sMxPqgQ6aHSD",
        "colab_type": "text"
      },
      "source": [
        "Normalize features (columns)"
      ]
    },
    {
      "cell_type": "code",
      "metadata": {
        "id": "1yMQpmoBaLLF",
        "colab_type": "code",
        "outputId": "a3a07746-d0ed-419b-c5ac-d1dd478d1755",
        "colab": {
          "base_uri": "https://localhost:8080/",
          "height": 68
        }
      },
      "source": [
        "mean = train_data.mean(axis=0)\n",
        "std = train_data.std(axis=0)\n",
        "train_data = (train_data - mean) / std\n",
        "test_data = (test_data - mean) / std\n",
        "print(train_data[0])"
      ],
      "execution_count": 0,
      "outputs": [
        {
          "output_type": "stream",
          "text": [
            "[-0.39725269  1.41205707 -1.12664623 -0.25683275 -1.027385    0.72635358\n",
            " -1.00016413  0.02383449 -0.51114231 -0.04753316 -1.49067405  0.41584124\n",
            " -0.83648691]\n"
          ],
          "name": "stdout"
        }
      ]
    },
    {
      "cell_type": "markdown",
      "metadata": {
        "id": "YHnSbdFba0pC",
        "colab_type": "text"
      },
      "source": [
        "**Create the model**\n",
        "\n",
        "Let's build our model. Here, we'll use a Sequential model with two densely connected hidden layers, and an output later that returns a single, continous value. The model building steps are wrapped in a fraction, build_model, since we'll create a second model later on."
      ]
    },
    {
      "cell_type": "code",
      "metadata": {
        "id": "bFTgIAGgbgUS",
        "colab_type": "code",
        "outputId": "8d723f13-d1f6-4ec4-b8d6-8d69f2541067",
        "colab": {
          "base_uri": "https://localhost:8080/",
          "height": 343
        }
      },
      "source": [
        "def build_model():\n",
        "  model = keras.Sequential([\n",
        "      keras.layers.Dense(64, activation=tf.nn.relu, input_shape=(train_data.shape[1], )),\n",
        "      keras.layers.Dense(64, activation=tf.nn.relu),\n",
        "      keras.layers.Dense(1)\n",
        "  ])\n",
        "  \n",
        "  optimizer = tf.train.RMSPropOptimizer(0.001)\n",
        "  \n",
        "  model.compile(loss='mse', optimizer=optimizer, metrics=['mae'])\n",
        "  \n",
        "  return model\n",
        "\n",
        "model = build_model()\n",
        "model.summary()"
      ],
      "execution_count": 0,
      "outputs": [
        {
          "output_type": "stream",
          "text": [
            "WARNING: Logging before flag parsing goes to stderr.\n",
            "W0829 12:56:47.683854 140222571325312 deprecation.py:506] From /usr/local/lib/python3.6/dist-packages/tensorflow/python/ops/init_ops.py:1251: calling VarianceScaling.__init__ (from tensorflow.python.ops.init_ops) with dtype is deprecated and will be removed in a future version.\n",
            "Instructions for updating:\n",
            "Call initializer instance with the dtype argument instead of passing it to the constructor\n"
          ],
          "name": "stderr"
        },
        {
          "output_type": "stream",
          "text": [
            "Model: \"sequential\"\n",
            "_________________________________________________________________\n",
            "Layer (type)                 Output Shape              Param #   \n",
            "=================================================================\n",
            "dense (Dense)                (None, 64)                896       \n",
            "_________________________________________________________________\n",
            "dense_1 (Dense)              (None, 64)                4160      \n",
            "_________________________________________________________________\n",
            "dense_2 (Dense)              (None, 1)                 65        \n",
            "=================================================================\n",
            "Total params: 5,121\n",
            "Trainable params: 5,121\n",
            "Non-trainable params: 0\n",
            "_________________________________________________________________\n"
          ],
          "name": "stdout"
        }
      ]
    },
    {
      "cell_type": "markdown",
      "metadata": {
        "id": "ET9dJbdtdq_i",
        "colab_type": "text"
      },
      "source": [
        "**Train the model**\n",
        "\n",
        "The model is trained for 500 epochs, and record the training and validation accuracy in the history object"
      ]
    },
    {
      "cell_type": "code",
      "metadata": {
        "id": "5YX9lQpJd4Zk",
        "colab_type": "code",
        "outputId": "65cbd387-c97f-4c07-bada-edec8881daad",
        "colab": {
          "base_uri": "https://localhost:8080/",
          "height": 190
        }
      },
      "source": [
        "# Display training progress by printing a single dot for each completed\n",
        "class PrintDot(keras.callbacks.Callback):\n",
        "  def on_epoch_end(self, epoch, logs):\n",
        "    if epoch % 100 == 0: print('')\n",
        "    print('.', end='')\n",
        "    \n",
        "EPOCHS = 500\n",
        "\n",
        "# Store training stats\n",
        "history = model.fit(train_data, train_labels, epochs=EPOCHS, \n",
        "                   validation_split=0.2, verbose=0,\n",
        "                   callbacks=[PrintDot()])\n"
      ],
      "execution_count": 0,
      "outputs": [
        {
          "output_type": "stream",
          "text": [
            "W0829 13:06:14.611419 140222571325312 deprecation.py:506] From /usr/local/lib/python3.6/dist-packages/tensorflow/python/training/rmsprop.py:119: calling Ones.__init__ (from tensorflow.python.ops.init_ops) with dtype is deprecated and will be removed in a future version.\n",
            "Instructions for updating:\n",
            "Call initializer instance with the dtype argument instead of passing it to the constructor\n"
          ],
          "name": "stderr"
        },
        {
          "output_type": "stream",
          "text": [
            "\n",
            "....................................................................................................\n",
            "....................................................................................................\n",
            "....................................................................................................\n",
            "....................................................................................................\n",
            "...................................................................................................."
          ],
          "name": "stdout"
        }
      ]
    },
    {
      "cell_type": "markdown",
      "metadata": {
        "id": "dtHujuwlfLh6",
        "colab_type": "text"
      },
      "source": [
        "Visualize the model's training progress using the stats stored in the history object. We want to use this data to determine how long to train *before* the model stops making progress."
      ]
    },
    {
      "cell_type": "code",
      "metadata": {
        "id": "stz52GnbgwbO",
        "colab_type": "code",
        "colab": {
          "base_uri": "https://localhost:8080/",
          "height": 283
        },
        "outputId": "7703ad07-f186-46ea-9c59-acae3370624f"
      },
      "source": [
        "import matplotlib.pyplot as plt\n",
        "\n",
        "def plot_history(history):\n",
        "  plt.figure\n",
        "  plt.xlabel('Epoch')\n",
        "  plt.ylabel('Mean Abs Error [1000$]')\n",
        "  plt.plot(history.epoch, np.array(history.history['mean_absolute_error']), label='Train Loss')\n",
        "  plt.plot(history.epoch, np.array(history.history['val_mean_absolute_error']), label='Val loss')\n",
        "  plt.legend()\n",
        "  plt.ylim([0,5])\n",
        "  \n",
        "plot_history(history)"
      ],
      "execution_count": 15,
      "outputs": [
        {
          "output_type": "display_data",
          "data": {
            "image/png": "[encoded data removed]",
            "text/plain": [
              "<Figure size 432x288 with 1 Axes>"
            ]
          },
          "metadata": {
            "tags": []
          }
        }
      ]
    },
    {
      "cell_type": "code",
      "metadata": {
        "id": "DRfd7yyXlr7l",
        "colab_type": "code",
        "colab": {
          "base_uri": "https://localhost:8080/",
          "height": 34
        },
        "outputId": "cdb7e6b9-44b9-4b8b-a3a4-32dc98c93ffa"
      },
      "source": [
        "history.history.keys()"
      ],
      "execution_count": 14,
      "outputs": [
        {
          "output_type": "execute_result",
          "data": {
            "text/plain": [
              "dict_keys(['loss', 'mean_absolute_error', 'val_loss', 'val_mean_absolute_error'])"
            ]
          },
          "metadata": {
            "tags": []
          },
          "execution_count": 14
        }
      ]
    },
    {
      "cell_type": "code",
      "metadata": {
        "id": "aUTezaPXvQm5",
        "colab_type": "code",
        "colab": {
          "base_uri": "https://localhost:8080/",
          "height": 334
        },
        "outputId": "3cd2c43b-0607-4595-b6be-2efef5ff88e4"
      },
      "source": [
        "model = build_model()\n",
        "\n",
        "# the patience parameter is the amount of epochs to check for \n",
        "early_stop = keras.callbacks.EarlyStopping(monitor='val_loss', patience=20)\n",
        "\n",
        "history = model.fit(train_data, train_labels, epochs=EPOCHS, validation_split=0.2, verbose=0, callbacks=[early_stop, PrintDot()])\n",
        "\n",
        "plot_history(history)"
      ],
      "execution_count": 16,
      "outputs": [
        {
          "output_type": "stream",
          "text": [
            "\n",
            "....................................................................................................\n",
            "................................................."
          ],
          "name": "stdout"
        },
        {
          "output_type": "display_data",
          "data": {
            "image/png": "[encoded data removed]",
            "text/plain": [
              "<Figure size 432x288 with 1 Axes>"
            ]
          },
          "metadata": {
            "tags": []
          }
        }
      ]
    },
    {
      "cell_type": "markdown",
      "metadata": {
        "id": "TnkF9PURwXay",
        "colab_type": "text"
      },
      "source": [
        "Performation on the test set"
      ]
    },
    {
      "cell_type": "code",
      "metadata": {
        "id": "iiUFb3qawVMo",
        "colab_type": "code",
        "colab": {
          "base_uri": "https://localhost:8080/",
          "height": 34
        },
        "outputId": "a6f197e5-7c77-4bdd-deba-cdfcc9ffd57a"
      },
      "source": [
        "[loss, mae] = model.evaluate(test_data, test_labels, verbose=0)\n",
        "print(\"Testing set Mean Abs Error: ${:7.2f}\".format(mae * 1000))"
      ],
      "execution_count": 17,
      "outputs": [
        {
          "output_type": "stream",
          "text": [
            "Testing set Mean Abs Error: $2857.78\n"
          ],
          "name": "stdout"
        }
      ]
    },
    {
      "cell_type": "markdown",
      "metadata": {
        "id": "9tEpwks6xGtC",
        "colab_type": "text"
      },
      "source": [
        "Finally, predict some housing prices using data in the testing set:"
      ]
    },
    {
      "cell_type": "code",
      "metadata": {
        "id": "H-qJRFFsxO9u",
        "colab_type": "code",
        "colab": {
          "base_uri": "https://localhost:8080/",
          "height": 306
        },
        "outputId": "1c7db774-8daa-4fff-b1ba-b148dff3284b"
      },
      "source": [
        "test_predictions = model.predict(test_data).flatten()\n",
        "print(test_predictions)"
      ],
      "execution_count": 18,
      "outputs": [
        {
          "output_type": "stream",
          "text": [
            "[ 8.91358   19.299107  21.547918  33.3207    25.206766  21.231375\n",
            " 24.432467  21.66735   19.899767  23.727255  19.229681  16.570494\n",
            " 17.139153  41.887245  21.97706   20.00551   26.183054  18.866714\n",
            " 21.262678  27.813662  11.644453  14.659895  21.061094  15.435909\n",
            " 19.180798  25.35504   30.981222  29.713276  11.80627   20.395906\n",
            " 20.364805  15.417335  31.86476   24.510817  21.048765   9.638115\n",
            " 18.006607  17.263805  21.01211   24.710152  30.306704  28.163918\n",
            " 14.954001  41.069435  31.23553   25.008076  26.84551   18.431261\n",
            " 23.270765  21.8532    32.869648  20.867943  11.407828  15.745738\n",
            " 33.721825  28.091595  13.307827  47.8793    33.798035  24.211483\n",
            " 24.958172  17.4393    15.578818  19.372648  23.195387  20.903116\n",
            " 15.404403  21.914103  12.023644   8.800699  27.43268   28.535612\n",
            " 27.633516  12.996639  24.298777  18.215576  19.370735  23.195652\n",
            " 34.071686  11.106767  20.831934  37.526867  16.508104  14.6495285\n",
            " 17.54315   18.16284   22.081179  20.451689  20.831907  31.294436\n",
            " 22.140556  18.586939  24.84516   40.12018   34.847294  21.91754\n",
            " 35.158504  49.1531    26.196596  47.141235  33.14422   20.360468 ]\n"
          ],
          "name": "stdout"
        }
      ]
    }
  ]
}